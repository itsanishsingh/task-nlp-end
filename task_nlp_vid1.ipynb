{
 "cells": [
  {
   "cell_type": "code",
   "execution_count": 30,
   "id": "81420bcf-cb8a-4a5e-9584-1cf21ca50efb",
   "metadata": {},
   "outputs": [],
   "source": [
    "import os\n",
    "\n",
    "import gensim\n",
    "from gensim.utils import simple_preprocess\n",
    "from nltk import sent_tokenize\n",
    "\n",
    "from sklearn.decomposition import PCA\n",
    "\n",
    "import pandas as pd\n",
    "import numpy as np\n",
    "\n",
    "import plotly.express as px"
   ]
  },
  {
   "cell_type": "code",
   "execution_count": 17,
   "id": "8493df4d",
   "metadata": {},
   "outputs": [],
   "source": [
    "story = []\n",
    "for filename in os.listdir(\"data\"):\n",
    "    with open(os.path.join(\"data\", filename), encoding=\"cp1252\") as f:\n",
    "        corpus = f.read()\n",
    "        raw_sent = sent_tokenize(corpus)\n",
    "        for sent in raw_sent:\n",
    "            story.append(simple_preprocess(sent))"
   ]
  },
  {
   "cell_type": "code",
   "execution_count": 18,
   "id": "449d0fbe",
   "metadata": {},
   "outputs": [
    {
     "data": {
      "text/plain": [
       "145020"
      ]
     },
     "execution_count": 18,
     "metadata": {},
     "output_type": "execute_result"
    }
   ],
   "source": [
    "len(story)"
   ]
  },
  {
   "cell_type": "code",
   "execution_count": 19,
   "id": "80393956",
   "metadata": {},
   "outputs": [],
   "source": [
    "model = gensim.models.Word2Vec(\n",
    "    window=10,\n",
    "    min_count=2,\n",
    "    workers=4,\n",
    ")"
   ]
  },
  {
   "cell_type": "code",
   "execution_count": 20,
   "id": "1477e2f8",
   "metadata": {},
   "outputs": [],
   "source": [
    "model.build_vocab(story)"
   ]
  },
  {
   "cell_type": "code",
   "execution_count": 21,
   "id": "09999c35",
   "metadata": {},
   "outputs": [
    {
     "data": {
      "text/plain": [
       "(6569648, 8628190)"
      ]
     },
     "execution_count": 21,
     "metadata": {},
     "output_type": "execute_result"
    }
   ],
   "source": [
    "model.train(story, total_examples=model.corpus_count, epochs=model.epochs)"
   ]
  },
  {
   "cell_type": "code",
   "execution_count": 22,
   "id": "142d2228",
   "metadata": {},
   "outputs": [
    {
     "data": {
      "text/plain": [
       "[('renly', 0.8140129446983337),\n",
       " ('robert', 0.7864481806755066),\n",
       " ('euron', 0.7132577896118164),\n",
       " ('aerys', 0.7054409980773926),\n",
       " ('peace', 0.7043545246124268),\n",
       " ('victarion', 0.6935116648674011),\n",
       " ('tommen', 0.6920387744903564),\n",
       " ('tywin', 0.6842411160469055),\n",
       " ('battle', 0.6764733195304871),\n",
       " ('dragonstone', 0.6693668961524963)]"
      ]
     },
     "execution_count": 22,
     "metadata": {},
     "output_type": "execute_result"
    }
   ],
   "source": [
    "model.wv.most_similar(\"stannis\")"
   ]
  },
  {
   "cell_type": "code",
   "execution_count": 23,
   "id": "7200f1c7",
   "metadata": {},
   "outputs": [
    {
     "data": {
      "text/plain": [
       "[('realm', 0.6891324520111084),\n",
       " ('baratheon', 0.688623309135437),\n",
       " ('throne', 0.6663892865180969),\n",
       " ('prince', 0.6445778012275696),\n",
       " ('tourney', 0.6205719709396362),\n",
       " ('battle', 0.6103635430335999),\n",
       " ('site', 0.6101223230361938),\n",
       " ('council', 0.6100698709487915),\n",
       " ('victory', 0.6070058345794678),\n",
       " ('foreswore', 0.5999483466148376)]"
      ]
     },
     "execution_count": 23,
     "metadata": {},
     "output_type": "execute_result"
    }
   ],
   "source": [
    "model.wv.most_similar(\"king\")"
   ]
  },
  {
   "cell_type": "code",
   "execution_count": 24,
   "id": "02cf4fa3",
   "metadata": {},
   "outputs": [
    {
     "data": {
      "text/plain": [
       "0.6933798"
      ]
     },
     "execution_count": 24,
     "metadata": {},
     "output_type": "execute_result"
    }
   ],
   "source": [
    "model.wv.similarity(w1=\"tyrion\", w2=\"dwarf\")"
   ]
  },
  {
   "cell_type": "code",
   "execution_count": 25,
   "id": "b4c85805",
   "metadata": {},
   "outputs": [
    {
     "data": {
      "text/plain": [
       "0.45910305"
      ]
     },
     "execution_count": 25,
     "metadata": {},
     "output_type": "execute_result"
    }
   ],
   "source": [
    "model.wv.similarity(w1=\"tyrion\", w2=\"tywin\")"
   ]
  },
  {
   "cell_type": "code",
   "execution_count": 27,
   "id": "ce9441c6",
   "metadata": {},
   "outputs": [],
   "source": [
    "y = model.wv.index_to_key"
   ]
  },
  {
   "cell_type": "code",
   "execution_count": 28,
   "id": "5a6d6d7a",
   "metadata": {},
   "outputs": [],
   "source": [
    "pca = PCA(n_components=3)"
   ]
  },
  {
   "cell_type": "code",
   "execution_count": 29,
   "id": "17f44741",
   "metadata": {},
   "outputs": [],
   "source": [
    "X = pca.fit_transform(model.wv.get_normed_vectors())"
   ]
  },
  {
   "cell_type": "code",
   "execution_count": 32,
   "id": "db95014a",
   "metadata": {},
   "outputs": [
    {
     "data": {
      "application/vnd.plotly.v1+json": {
       "config": {
        "plotlyServerURL": "https://plot.ly"
       },
       "data": [
        {
         "hovertemplate": "color=the<br>0=%{x}<br>1=%{y}<br>2=%{z}<extra></extra>",
         "legendgroup": "the",
         "marker": {
          "color": "#636efa",
          "symbol": "circle"
         },
         "mode": "markers",
         "name": "the",
         "scene": "scene",
         "showlegend": true,
         "type": "scatter3d",
         "x": [
          0.16612419486045837
         ],
         "y": [
          0.5740417242050171
         ],
         "z": [
          -0.068370521068573
         ]
        },
        {
         "hovertemplate": "color=and<br>0=%{x}<br>1=%{y}<br>2=%{z}<extra></extra>",
         "legendgroup": "and",
         "marker": {
          "color": "#EF553B",
          "symbol": "circle"
         },
         "mode": "markers",
         "name": "and",
         "scene": "scene",
         "showlegend": true,
         "type": "scatter3d",
         "x": [
          0.17585542798042297
         ],
         "y": [
          0.33954501152038574
         ],
         "z": [
          0.003412395715713501
         ]
        },
        {
         "hovertemplate": "color=to<br>0=%{x}<br>1=%{y}<br>2=%{z}<extra></extra>",
         "legendgroup": "to",
         "marker": {
          "color": "#00cc96",
          "symbol": "circle"
         },
         "mode": "markers",
         "name": "to",
         "scene": "scene",
         "showlegend": true,
         "type": "scatter3d",
         "x": [
          -0.2759978175163269
         ],
         "y": [
          0.5843678116798401
         ],
         "z": [
          0.19654454290866852
         ]
        },
        {
         "hovertemplate": "color=of<br>0=%{x}<br>1=%{y}<br>2=%{z}<extra></extra>",
         "legendgroup": "of",
         "marker": {
          "color": "#ab63fa",
          "symbol": "circle"
         },
         "mode": "markers",
         "name": "of",
         "scene": "scene",
         "showlegend": true,
         "type": "scatter3d",
         "x": [
          -0.002213522791862488
         ],
         "y": [
          0.3682261109352112
         ],
         "z": [
          -0.13709017634391785
         ]
        },
        {
         "hovertemplate": "color=he<br>0=%{x}<br>1=%{y}<br>2=%{z}<extra></extra>",
         "legendgroup": "he",
         "marker": {
          "color": "#FFA15A",
          "symbol": "circle"
         },
         "mode": "markers",
         "name": "he",
         "scene": "scene",
         "showlegend": true,
         "type": "scatter3d",
         "x": [
          -0.10785645991563797
         ],
         "y": [
          0.5378234386444092
         ],
         "z": [
          0.23181521892547607
         ]
        },
        {
         "hovertemplate": "color=his<br>0=%{x}<br>1=%{y}<br>2=%{z}<extra></extra>",
         "legendgroup": "his",
         "marker": {
          "color": "#19d3f3",
          "symbol": "circle"
         },
         "mode": "markers",
         "name": "his",
         "scene": "scene",
         "showlegend": true,
         "type": "scatter3d",
         "x": [
          0.04444151371717453
         ],
         "y": [
          0.29793187975883484
         ],
         "z": [
          0.32046788930892944
         ]
        },
        {
         "hovertemplate": "color=was<br>0=%{x}<br>1=%{y}<br>2=%{z}<extra></extra>",
         "legendgroup": "was",
         "marker": {
          "color": "#FF6692",
          "symbol": "circle"
         },
         "mode": "markers",
         "name": "was",
         "scene": "scene",
         "showlegend": true,
         "type": "scatter3d",
         "x": [
          -0.09719650447368622
         ],
         "y": [
          0.4191393256187439
         ],
         "z": [
          0.3055242896080017
         ]
        },
        {
         "hovertemplate": "color=you<br>0=%{x}<br>1=%{y}<br>2=%{z}<extra></extra>",
         "legendgroup": "you",
         "marker": {
          "color": "#B6E880",
          "symbol": "circle"
         },
         "mode": "markers",
         "name": "you",
         "scene": "scene",
         "showlegend": true,
         "type": "scatter3d",
         "x": [
          -0.5147568583488464
         ],
         "y": [
          0.6207793354988098
         ],
         "z": [
          0.13492587208747864
         ]
        },
        {
         "hovertemplate": "color=her<br>0=%{x}<br>1=%{y}<br>2=%{z}<extra></extra>",
         "legendgroup": "her",
         "marker": {
          "color": "#FF97FF",
          "symbol": "circle"
         },
         "mode": "markers",
         "name": "her",
         "scene": "scene",
         "showlegend": true,
         "type": "scatter3d",
         "x": [
          0.0006194338202476501
         ],
         "y": [
          0.3961235284805298
         ],
         "z": [
          0.3500835597515106
         ]
        },
        {
         "hovertemplate": "color=in<br>0=%{x}<br>1=%{y}<br>2=%{z}<extra></extra>",
         "legendgroup": "in",
         "marker": {
          "color": "#FECB52",
          "symbol": "circle"
         },
         "mode": "markers",
         "name": "in",
         "scene": "scene",
         "showlegend": true,
         "type": "scatter3d",
         "x": [
          0.08908935636281967
         ],
         "y": [
          0.4382573664188385
         ],
         "z": [
          0.06601639091968536
         ]
        },
        {
         "hovertemplate": "color=it<br>0=%{x}<br>1=%{y}<br>2=%{z}<extra></extra>",
         "legendgroup": "it",
         "marker": {
          "color": "#636efa",
          "symbol": "circle"
         },
         "mode": "markers",
         "name": "it",
         "scene": "scene",
         "showlegend": true,
         "type": "scatter3d",
         "x": [
          -0.0829303041100502
         ],
         "y": [
          0.6236233115196228
         ],
         "z": [
          0.23395374417304993
         ]
        },
        {
         "hovertemplate": "color=had<br>0=%{x}<br>1=%{y}<br>2=%{z}<extra></extra>",
         "legendgroup": "had",
         "marker": {
          "color": "#EF553B",
          "symbol": "circle"
         },
         "mode": "markers",
         "name": "had",
         "scene": "scene",
         "showlegend": true,
         "type": "scatter3d",
         "x": [
          -0.12917746603488922
         ],
         "y": [
          0.5234599709510803
         ],
         "z": [
          0.15772199630737305
         ]
        },
        {
         "hovertemplate": "color=that<br>0=%{x}<br>1=%{y}<br>2=%{z}<extra></extra>",
         "legendgroup": "that",
         "marker": {
          "color": "#00cc96",
          "symbol": "circle"
         },
         "mode": "markers",
         "name": "that",
         "scene": "scene",
         "showlegend": true,
         "type": "scatter3d",
         "x": [
          -0.303040087223053
         ],
         "y": [
          0.5955130457878113
         ],
         "z": [
          0.08305129408836365
         ]
        },
        {
         "hovertemplate": "color=she<br>0=%{x}<br>1=%{y}<br>2=%{z}<extra></extra>",
         "legendgroup": "she",
         "marker": {
          "color": "#ab63fa",
          "symbol": "circle"
         },
         "mode": "markers",
         "name": "she",
         "scene": "scene",
         "showlegend": true,
         "type": "scatter3d",
         "x": [
          -0.08042709529399872
         ],
         "y": [
          0.5058619976043701
         ],
         "z": [
          0.27526265382766724
         ]
        },
        {
         "hovertemplate": "color=as<br>0=%{x}<br>1=%{y}<br>2=%{z}<extra></extra>",
         "legendgroup": "as",
         "marker": {
          "color": "#FFA15A",
          "symbol": "circle"
         },
         "mode": "markers",
         "name": "as",
         "scene": "scene",
         "showlegend": true,
         "type": "scatter3d",
         "x": [
          -0.012807667255401611
         ],
         "y": [
          0.4636501371860504
         ],
         "z": [
          0.2517256736755371
         ]
        },
        {
         "hovertemplate": "color=with<br>0=%{x}<br>1=%{y}<br>2=%{z}<extra></extra>",
         "legendgroup": "with",
         "marker": {
          "color": "#19d3f3",
          "symbol": "circle"
         },
         "mode": "markers",
         "name": "with",
         "scene": "scene",
         "showlegend": true,
         "type": "scatter3d",
         "x": [
          0.12409497052431107
         ],
         "y": [
          0.2527443766593933
         ],
         "z": [
          0.1746906340122223
         ]
        },
        {
         "hovertemplate": "color=him<br>0=%{x}<br>1=%{y}<br>2=%{z}<extra></extra>",
         "legendgroup": "him",
         "marker": {
          "color": "#FF6692",
          "symbol": "circle"
         },
         "mode": "markers",
         "name": "him",
         "scene": "scene",
         "showlegend": true,
         "type": "scatter3d",
         "x": [
          -0.12152791768312454
         ],
         "y": [
          0.5254724621772766
         ],
         "z": [
          0.2832249701023102
         ]
        },
        {
         "hovertemplate": "color=not<br>0=%{x}<br>1=%{y}<br>2=%{z}<extra></extra>",
         "legendgroup": "not",
         "marker": {
          "color": "#B6E880",
          "symbol": "circle"
         },
         "mode": "markers",
         "name": "not",
         "scene": "scene",
         "showlegend": true,
         "type": "scatter3d",
         "x": [
          -0.4579949676990509
         ],
         "y": [
          0.580123782157898
         ],
         "z": [
          0.1929396092891693
         ]
        },
        {
         "hovertemplate": "color=but<br>0=%{x}<br>1=%{y}<br>2=%{z}<extra></extra>",
         "legendgroup": "but",
         "marker": {
          "color": "#FF97FF",
          "symbol": "circle"
         },
         "mode": "markers",
         "name": "but",
         "scene": "scene",
         "showlegend": true,
         "type": "scatter3d",
         "x": [
          -0.22119367122650146
         ],
         "y": [
          0.6096339225769043
         ],
         "z": [
          0.17246466875076294
         ]
        },
        {
         "hovertemplate": "color=for<br>0=%{x}<br>1=%{y}<br>2=%{z}<extra></extra>",
         "legendgroup": "for",
         "marker": {
          "color": "#FECB52",
          "symbol": "circle"
         },
         "mode": "markers",
         "name": "for",
         "scene": "scene",
         "showlegend": true,
         "type": "scatter3d",
         "x": [
          -0.4183359742164612
         ],
         "y": [
          0.5490294694900513
         ],
         "z": [
          0.17131167650222778
         ]
        },
        {
         "hovertemplate": "color=they<br>0=%{x}<br>1=%{y}<br>2=%{z}<extra></extra>",
         "legendgroup": "they",
         "marker": {
          "color": "#636efa",
          "symbol": "circle"
         },
         "mode": "markers",
         "name": "they",
         "scene": "scene",
         "showlegend": true,
         "type": "scatter3d",
         "x": [
          -0.013455577194690704
         ],
         "y": [
          0.6978558301925659
         ],
         "z": [
          -0.10984921455383301
         ]
        },
        {
         "hovertemplate": "color=is<br>0=%{x}<br>1=%{y}<br>2=%{z}<extra></extra>",
         "legendgroup": "is",
         "marker": {
          "color": "#EF553B",
          "symbol": "circle"
         },
         "mode": "markers",
         "name": "is",
         "scene": "scene",
         "showlegend": true,
         "type": "scatter3d",
         "x": [
          -0.5656485557556152
         ],
         "y": [
          0.503076434135437
         ],
         "z": [
          0.14762559533119202
         ]
        },
        {
         "hovertemplate": "color=at<br>0=%{x}<br>1=%{y}<br>2=%{z}<extra></extra>",
         "legendgroup": "at",
         "marker": {
          "color": "#00cc96",
          "symbol": "circle"
         },
         "mode": "markers",
         "name": "at",
         "scene": "scene",
         "showlegend": true,
         "type": "scatter3d",
         "x": [
          -0.04250772297382355
         ],
         "y": [
          0.39281165599823
         ],
         "z": [
          0.30747056007385254
         ]
        },
        {
         "hovertemplate": "color=on<br>0=%{x}<br>1=%{y}<br>2=%{z}<extra></extra>",
         "legendgroup": "on",
         "marker": {
          "color": "#ab63fa",
          "symbol": "circle"
         },
         "mode": "markers",
         "name": "on",
         "scene": "scene",
         "showlegend": true,
         "type": "scatter3d",
         "x": [
          0.18153762817382812
         ],
         "y": [
          0.4718284010887146
         ],
         "z": [
          0.2196814864873886
         ]
        },
        {
         "hovertemplate": "color=said<br>0=%{x}<br>1=%{y}<br>2=%{z}<extra></extra>",
         "legendgroup": "said",
         "marker": {
          "color": "#FFA15A",
          "symbol": "circle"
         },
         "mode": "markers",
         "name": "said",
         "scene": "scene",
         "showlegend": true,
         "type": "scatter3d",
         "x": [
          -0.541611909866333
         ],
         "y": [
          0.48285815119743347
         ],
         "z": [
          0.46894827485084534
         ]
        },
        {
         "hovertemplate": "color=my<br>0=%{x}<br>1=%{y}<br>2=%{z}<extra></extra>",
         "legendgroup": "my",
         "marker": {
          "color": "#19d3f3",
          "symbol": "circle"
         },
         "mode": "markers",
         "name": "my",
         "scene": "scene",
         "showlegend": true,
         "type": "scatter3d",
         "x": [
          -0.4689745306968689
         ],
         "y": [
          0.497221976518631
         ],
         "z": [
          0.16950254142284393
         ]
        },
        {
         "hovertemplate": "color=have<br>0=%{x}<br>1=%{y}<br>2=%{z}<extra></extra>",
         "legendgroup": "have",
         "marker": {
          "color": "#FF6692",
          "symbol": "circle"
         },
         "mode": "markers",
         "name": "have",
         "scene": "scene",
         "showlegend": true,
         "type": "scatter3d",
         "x": [
          -0.38516196608543396
         ],
         "y": [
          0.6243003606796265
         ],
         "z": [
          0.10230531543493271
         ]
        },
        {
         "hovertemplate": "color=be<br>0=%{x}<br>1=%{y}<br>2=%{z}<extra></extra>",
         "legendgroup": "be",
         "marker": {
          "color": "#B6E880",
          "symbol": "circle"
         },
         "mode": "markers",
         "name": "be",
         "scene": "scene",
         "showlegend": true,
         "type": "scatter3d",
         "x": [
          -0.3873051106929779
         ],
         "y": [
          0.6623005867004395
         ],
         "z": [
          0.1073531061410904
         ]
        },
        {
         "hovertemplate": "color=lord<br>0=%{x}<br>1=%{y}<br>2=%{z}<extra></extra>",
         "legendgroup": "lord",
         "marker": {
          "color": "#FF97FF",
          "symbol": "circle"
         },
         "mode": "markers",
         "name": "lord",
         "scene": "scene",
         "showlegend": true,
         "type": "scatter3d",
         "x": [
          -0.47326207160949707
         ],
         "y": [
          0.4469791352748871
         ],
         "z": [
          0.06113134324550629
         ]
        },
        {
         "hovertemplate": "color=them<br>0=%{x}<br>1=%{y}<br>2=%{z}<extra></extra>",
         "legendgroup": "them",
         "marker": {
          "color": "#FECB52",
          "symbol": "circle"
         },
         "mode": "markers",
         "name": "them",
         "scene": "scene",
         "showlegend": true,
         "type": "scatter3d",
         "x": [
          0.006380952894687653
         ],
         "y": [
          0.6869906187057495
         ],
         "z": [
          -0.03139115869998932
         ]
        },
        {
         "hovertemplate": "color=no<br>0=%{x}<br>1=%{y}<br>2=%{z}<extra></extra>",
         "legendgroup": "no",
         "marker": {
          "color": "#636efa",
          "symbol": "circle"
         },
         "mode": "markers",
         "name": "no",
         "scene": "scene",
         "showlegend": true,
         "type": "scatter3d",
         "x": [
          -0.3723047375679016
         ],
         "y": [
          0.5439726114273071
         ],
         "z": [
          0.06203392148017883
         ]
        },
        {
         "hovertemplate": "color=from<br>0=%{x}<br>1=%{y}<br>2=%{z}<extra></extra>",
         "legendgroup": "from",
         "marker": {
          "color": "#EF553B",
          "symbol": "circle"
         },
         "mode": "markers",
         "name": "from",
         "scene": "scene",
         "showlegend": true,
         "type": "scatter3d",
         "x": [
          0.18165349960327148
         ],
         "y": [
          0.4537718892097473
         ],
         "z": [
          0.16254210472106934
         ]
        },
        {
         "hovertemplate": "color=would<br>0=%{x}<br>1=%{y}<br>2=%{z}<extra></extra>",
         "legendgroup": "would",
         "marker": {
          "color": "#00cc96",
          "symbol": "circle"
         },
         "mode": "markers",
         "name": "would",
         "scene": "scene",
         "showlegend": true,
         "type": "scatter3d",
         "x": [
          -0.3973788917064667
         ],
         "y": [
          0.5739706158638
         ],
         "z": [
          0.229011669754982
         ]
        },
        {
         "hovertemplate": "color=were<br>0=%{x}<br>1=%{y}<br>2=%{z}<extra></extra>",
         "legendgroup": "were",
         "marker": {
          "color": "#ab63fa",
          "symbol": "circle"
         },
         "mode": "markers",
         "name": "were",
         "scene": "scene",
         "showlegend": true,
         "type": "scatter3d",
         "x": [
          0.03973279148340225
         ],
         "y": [
          0.5151570439338684
         ],
         "z": [
          0.01637841761112213
         ]
        },
        {
         "hovertemplate": "color=me<br>0=%{x}<br>1=%{y}<br>2=%{z}<extra></extra>",
         "legendgroup": "me",
         "marker": {
          "color": "#FFA15A",
          "symbol": "circle"
         },
         "mode": "markers",
         "name": "me",
         "scene": "scene",
         "showlegend": true,
         "type": "scatter3d",
         "x": [
          -0.4843541979789734
         ],
         "y": [
          0.587433934211731
         ],
         "z": [
          0.16871210932731628
         ]
        },
        {
         "hovertemplate": "color=your<br>0=%{x}<br>1=%{y}<br>2=%{z}<extra></extra>",
         "legendgroup": "your",
         "marker": {
          "color": "#19d3f3",
          "symbol": "circle"
         },
         "mode": "markers",
         "name": "your",
         "scene": "scene",
         "showlegend": true,
         "type": "scatter3d",
         "x": [
          -0.4443274140357971
         ],
         "y": [
          0.4961458444595337
         ],
         "z": [
          0.16136367619037628
         ]
        },
        {
         "hovertemplate": "color=one<br>0=%{x}<br>1=%{y}<br>2=%{z}<extra></extra>",
         "legendgroup": "one",
         "marker": {
          "color": "#FF6692",
          "symbol": "circle"
         },
         "mode": "markers",
         "name": "one",
         "scene": "scene",
         "showlegend": true,
         "type": "scatter3d",
         "x": [
          -0.022154882550239563
         ],
         "y": [
          0.5948658585548401
         ],
         "z": [
          0.10431993007659912
         ]
        },
        {
         "hovertemplate": "color=all<br>0=%{x}<br>1=%{y}<br>2=%{z}<extra></extra>",
         "legendgroup": "all",
         "marker": {
          "color": "#B6E880",
          "symbol": "circle"
         },
         "mode": "markers",
         "name": "all",
         "scene": "scene",
         "showlegend": true,
         "type": "scatter3d",
         "x": [
          -0.20912599563598633
         ],
         "y": [
          0.6942000389099121
         ],
         "z": [
          -0.05142512917518616
         ]
        },
        {
         "hovertemplate": "color=when<br>0=%{x}<br>1=%{y}<br>2=%{z}<extra></extra>",
         "legendgroup": "when",
         "marker": {
          "color": "#FF97FF",
          "symbol": "circle"
         },
         "mode": "markers",
         "name": "when",
         "scene": "scene",
         "showlegend": true,
         "type": "scatter3d",
         "x": [
          -0.13441219925880432
         ],
         "y": [
          0.582382082939148
         ],
         "z": [
          0.26992735266685486
         ]
        },
        {
         "hovertemplate": "color=will<br>0=%{x}<br>1=%{y}<br>2=%{z}<extra></extra>",
         "legendgroup": "will",
         "marker": {
          "color": "#FECB52",
          "symbol": "circle"
         },
         "mode": "markers",
         "name": "will",
         "scene": "scene",
         "showlegend": true,
         "type": "scatter3d",
         "x": [
          -0.4845884442329407
         ],
         "y": [
          0.5551555752754211
         ],
         "z": [
          0.17596688866615295
         ]
        },
        {
         "hovertemplate": "color=ser<br>0=%{x}<br>1=%{y}<br>2=%{z}<extra></extra>",
         "legendgroup": "ser",
         "marker": {
          "color": "#636efa",
          "symbol": "circle"
         },
         "mode": "markers",
         "name": "ser",
         "scene": "scene",
         "showlegend": true,
         "type": "scatter3d",
         "x": [
          -0.38885506987571716
         ],
         "y": [
          0.28483879566192627
         ],
         "z": [
          0.1359727680683136
         ]
        },
        {
         "hovertemplate": "color=if<br>0=%{x}<br>1=%{y}<br>2=%{z}<extra></extra>",
         "legendgroup": "if",
         "marker": {
          "color": "#EF553B",
          "symbol": "circle"
         },
         "mode": "markers",
         "name": "if",
         "scene": "scene",
         "showlegend": true,
         "type": "scatter3d",
         "x": [
          -0.3878431022167206
         ],
         "y": [
          0.6249027252197266
         ],
         "z": [
          0.2690303921699524
         ]
        },
        {
         "hovertemplate": "color=so<br>0=%{x}<br>1=%{y}<br>2=%{z}<extra></extra>",
         "legendgroup": "so",
         "marker": {
          "color": "#00cc96",
          "symbol": "circle"
         },
         "mode": "markers",
         "name": "so",
         "scene": "scene",
         "showlegend": true,
         "type": "scatter3d",
         "x": [
          -0.15749123692512512
         ],
         "y": [
          0.5747321248054504
         ],
         "z": [
          0.27144506573677063
         ]
        },
        {
         "hovertemplate": "color=their<br>0=%{x}<br>1=%{y}<br>2=%{z}<extra></extra>",
         "legendgroup": "their",
         "marker": {
          "color": "#ab63fa",
          "symbol": "circle"
         },
         "mode": "markers",
         "name": "their",
         "scene": "scene",
         "showlegend": true,
         "type": "scatter3d",
         "x": [
          0.06985887140035629
         ],
         "y": [
          0.5292220115661621
         ],
         "z": [
          -0.19351282715797424
         ]
        },
        {
         "hovertemplate": "color=we<br>0=%{x}<br>1=%{y}<br>2=%{z}<extra></extra>",
         "legendgroup": "we",
         "marker": {
          "color": "#FFA15A",
          "symbol": "circle"
         },
         "mode": "markers",
         "name": "we",
         "scene": "scene",
         "showlegend": true,
         "type": "scatter3d",
         "x": [
          -0.3459780216217041
         ],
         "y": [
          0.741580069065094
         ],
         "z": [
          -0.05857589840888977
         ]
        },
        {
         "hovertemplate": "color=could<br>0=%{x}<br>1=%{y}<br>2=%{z}<extra></extra>",
         "legendgroup": "could",
         "marker": {
          "color": "#19d3f3",
          "symbol": "circle"
         },
         "mode": "markers",
         "name": "could",
         "scene": "scene",
         "showlegend": true,
         "type": "scatter3d",
         "x": [
          -0.09311167895793915
         ],
         "y": [
          0.5088398456573486
         ],
         "z": [
          0.270628422498703
         ]
        },
        {
         "hovertemplate": "color=are<br>0=%{x}<br>1=%{y}<br>2=%{z}<extra></extra>",
         "legendgroup": "are",
         "marker": {
          "color": "#FF6692",
          "symbol": "circle"
         },
         "mode": "markers",
         "name": "are",
         "scene": "scene",
         "showlegend": true,
         "type": "scatter3d",
         "x": [
          -0.4036426842212677
         ],
         "y": [
          0.5342280268669128
         ],
         "z": [
          -0.01080484688282013
         ]
        },
        {
         "hovertemplate": "color=man<br>0=%{x}<br>1=%{y}<br>2=%{z}<extra></extra>",
         "legendgroup": "man",
         "marker": {
          "color": "#B6E880",
          "symbol": "circle"
         },
         "mode": "markers",
         "name": "man",
         "scene": "scene",
         "showlegend": true,
         "type": "scatter3d",
         "x": [
          -0.12034836411476135
         ],
         "y": [
          0.5003525614738464
         ],
         "z": [
          0.12751111388206482
         ]
        },
        {
         "hovertemplate": "color=there<br>0=%{x}<br>1=%{y}<br>2=%{z}<extra></extra>",
         "legendgroup": "there",
         "marker": {
          "color": "#FF97FF",
          "symbol": "circle"
         },
         "mode": "markers",
         "name": "there",
         "scene": "scene",
         "showlegend": true,
         "type": "scatter3d",
         "x": [
          -0.07339447736740112
         ],
         "y": [
          0.6267387866973877
         ],
         "z": [
          -0.024014294147491455
         ]
        },
        {
         "hovertemplate": "color=this<br>0=%{x}<br>1=%{y}<br>2=%{z}<extra></extra>",
         "legendgroup": "this",
         "marker": {
          "color": "#FECB52",
          "symbol": "circle"
         },
         "mode": "markers",
         "name": "this",
         "scene": "scene",
         "showlegend": true,
         "type": "scatter3d",
         "x": [
          -0.41538524627685547
         ],
         "y": [
          0.6058043241500854
         ],
         "z": [
          0.11249364912509918
         ]
        },
        {
         "hovertemplate": "color=up<br>0=%{x}<br>1=%{y}<br>2=%{z}<extra></extra>",
         "legendgroup": "up",
         "marker": {
          "color": "#636efa",
          "symbol": "circle"
         },
         "mode": "markers",
         "name": "up",
         "scene": "scene",
         "showlegend": true,
         "type": "scatter3d",
         "x": [
          0.4061550199985504
         ],
         "y": [
          0.5518229007720947
         ],
         "z": [
          0.2747967541217804
         ]
        },
        {
         "hovertemplate": "color=been<br>0=%{x}<br>1=%{y}<br>2=%{z}<extra></extra>",
         "legendgroup": "been",
         "marker": {
          "color": "#EF553B",
          "symbol": "circle"
         },
         "mode": "markers",
         "name": "been",
         "scene": "scene",
         "showlegend": true,
         "type": "scatter3d",
         "x": [
          -0.17237292230129242
         ],
         "y": [
          0.5431191325187683
         ],
         "z": [
          0.135414719581604
         ]
        },
        {
         "hovertemplate": "color=what<br>0=%{x}<br>1=%{y}<br>2=%{z}<extra></extra>",
         "legendgroup": "what",
         "marker": {
          "color": "#00cc96",
          "symbol": "circle"
         },
         "mode": "markers",
         "name": "what",
         "scene": "scene",
         "showlegend": true,
         "type": "scatter3d",
         "x": [
          -0.3769181966781616
         ],
         "y": [
          0.5947657227516174
         ],
         "z": [
          0.0798812210559845
         ]
        },
        {
         "hovertemplate": "color=did<br>0=%{x}<br>1=%{y}<br>2=%{z}<extra></extra>",
         "legendgroup": "did",
         "marker": {
          "color": "#ab63fa",
          "symbol": "circle"
         },
         "mode": "markers",
         "name": "did",
         "scene": "scene",
         "showlegend": true,
         "type": "scatter3d",
         "x": [
          -0.36605769395828247
         ],
         "y": [
          0.46510887145996094
         ],
         "z": [
          0.38504600524902344
         ]
        },
        {
         "hovertemplate": "color=by<br>0=%{x}<br>1=%{y}<br>2=%{z}<extra></extra>",
         "legendgroup": "by",
         "marker": {
          "color": "#FFA15A",
          "symbol": "circle"
         },
         "mode": "markers",
         "name": "by",
         "scene": "scene",
         "showlegend": true,
         "type": "scatter3d",
         "x": [
          -0.015117675065994263
         ],
         "y": [
          0.4610198438167572
         ],
         "z": [
          -0.009999498724937439
         ]
        },
        {
         "hovertemplate": "color=king<br>0=%{x}<br>1=%{y}<br>2=%{z}<extra></extra>",
         "legendgroup": "king",
         "marker": {
          "color": "#19d3f3",
          "symbol": "circle"
         },
         "mode": "markers",
         "name": "king",
         "scene": "scene",
         "showlegend": true,
         "type": "scatter3d",
         "x": [
          -0.3954262435436249
         ],
         "y": [
          0.6633686423301697
         ],
         "z": [
          0.03029733896255493
         ]
        },
        {
         "hovertemplate": "color=do<br>0=%{x}<br>1=%{y}<br>2=%{z}<extra></extra>",
         "legendgroup": "do",
         "marker": {
          "color": "#FF6692",
          "symbol": "circle"
         },
         "mode": "markers",
         "name": "do",
         "scene": "scene",
         "showlegend": true,
         "type": "scatter3d",
         "x": [
          -0.548262894153595
         ],
         "y": [
          0.5329760313034058
         ],
         "z": [
          0.2844555079936981
         ]
        },
        {
         "hovertemplate": "color=men<br>0=%{x}<br>1=%{y}<br>2=%{z}<extra></extra>",
         "legendgroup": "men",
         "marker": {
          "color": "#B6E880",
          "symbol": "circle"
         },
         "mode": "markers",
         "name": "men",
         "scene": "scene",
         "showlegend": true,
         "type": "scatter3d",
         "x": [
          -0.0841338038444519
         ],
         "y": [
          0.7210487127304077
         ],
         "z": [
          -0.2708362340927124
         ]
        },
        {
         "hovertemplate": "color=back<br>0=%{x}<br>1=%{y}<br>2=%{z}<extra></extra>",
         "legendgroup": "back",
         "marker": {
          "color": "#FF97FF",
          "symbol": "circle"
         },
         "mode": "markers",
         "name": "back",
         "scene": "scene",
         "showlegend": true,
         "type": "scatter3d",
         "x": [
          0.20300135016441345
         ],
         "y": [
          0.6254951357841492
         ],
         "z": [
          0.43544262647628784
         ]
        },
        {
         "hovertemplate": "color=out<br>0=%{x}<br>1=%{y}<br>2=%{z}<extra></extra>",
         "legendgroup": "out",
         "marker": {
          "color": "#FECB52",
          "symbol": "circle"
         },
         "mode": "markers",
         "name": "out",
         "scene": "scene",
         "showlegend": true,
         "type": "scatter3d",
         "x": [
          0.2589063346385956
         ],
         "y": [
          0.5729862451553345
         ],
         "z": [
          0.29270055890083313
         ]
        },
        {
         "hovertemplate": "color=more<br>0=%{x}<br>1=%{y}<br>2=%{z}<extra></extra>",
         "legendgroup": "more",
         "marker": {
          "color": "#636efa",
          "symbol": "circle"
         },
         "mode": "markers",
         "name": "more",
         "scene": "scene",
         "showlegend": true,
         "type": "scatter3d",
         "x": [
          -0.2166752815246582
         ],
         "y": [
          0.5794751644134521
         ],
         "z": [
          0.003242969512939453
         ]
        },
        {
         "hovertemplate": "color=or<br>0=%{x}<br>1=%{y}<br>2=%{z}<extra></extra>",
         "legendgroup": "or",
         "marker": {
          "color": "#EF553B",
          "symbol": "circle"
         },
         "mode": "markers",
         "name": "or",
         "scene": "scene",
         "showlegend": true,
         "type": "scatter3d",
         "x": [
          -0.3253423273563385
         ],
         "y": [
          0.5658137798309326
         ],
         "z": [
          0.05498610436916351
         ]
        },
        {
         "hovertemplate": "color=who<br>0=%{x}<br>1=%{y}<br>2=%{z}<extra></extra>",
         "legendgroup": "who",
         "marker": {
          "color": "#00cc96",
          "symbol": "circle"
         },
         "mode": "markers",
         "name": "who",
         "scene": "scene",
         "showlegend": true,
         "type": "scatter3d",
         "x": [
          -0.43805357813835144
         ],
         "y": [
          0.5762908458709717
         ],
         "z": [
          -0.09389960765838623
         ]
        },
        {
         "hovertemplate": "color=down<br>0=%{x}<br>1=%{y}<br>2=%{z}<extra></extra>",
         "legendgroup": "down",
         "marker": {
          "color": "#ab63fa",
          "symbol": "circle"
         },
         "mode": "markers",
         "name": "down",
         "scene": "scene",
         "showlegend": true,
         "type": "scatter3d",
         "x": [
          0.43940165638923645
         ],
         "y": [
          0.5846514701843262
         ],
         "z": [
          0.3399665951728821
         ]
        },
        {
         "hovertemplate": "color=well<br>0=%{x}<br>1=%{y}<br>2=%{z}<extra></extra>",
         "legendgroup": "well",
         "marker": {
          "color": "#FFA15A",
          "symbol": "circle"
         },
         "mode": "markers",
         "name": "well",
         "scene": "scene",
         "showlegend": true,
         "type": "scatter3d",
         "x": [
          -0.32570570707321167
         ],
         "y": [
          0.6083388328552246
         ],
         "z": [
          0.05585475265979767
         ]
        },
        {
         "hovertemplate": "color=than<br>0=%{x}<br>1=%{y}<br>2=%{z}<extra></extra>",
         "legendgroup": "than",
         "marker": {
          "color": "#19d3f3",
          "symbol": "circle"
         },
         "mode": "markers",
         "name": "than",
         "scene": "scene",
         "showlegend": true,
         "type": "scatter3d",
         "x": [
          -0.19260954856872559
         ],
         "y": [
          0.4626491367816925
         ],
         "z": [
          0.13575398921966553
         ]
        },
        {
         "hovertemplate": "color=only<br>0=%{x}<br>1=%{y}<br>2=%{z}<extra></extra>",
         "legendgroup": "only",
         "marker": {
          "color": "#FF6692",
          "symbol": "circle"
         },
         "mode": "markers",
         "name": "only",
         "scene": "scene",
         "showlegend": true,
         "type": "scatter3d",
         "x": [
          -0.28876909613609314
         ],
         "y": [
          0.5944364070892334
         ],
         "z": [
          0.037781521677970886
         ]
        },
        {
         "hovertemplate": "color=like<br>0=%{x}<br>1=%{y}<br>2=%{z}<extra></extra>",
         "legendgroup": "like",
         "marker": {
          "color": "#B6E880",
          "symbol": "circle"
         },
         "mode": "markers",
         "name": "like",
         "scene": "scene",
         "showlegend": true,
         "type": "scatter3d",
         "x": [
          0.09028127044439316
         ],
         "y": [
          0.36508435010910034
         ],
         "z": [
          0.23949283361434937
         ]
        },
        {
         "hovertemplate": "color=jon<br>0=%{x}<br>1=%{y}<br>2=%{z}<extra></extra>",
         "legendgroup": "jon",
         "marker": {
          "color": "#FF97FF",
          "symbol": "circle"
         },
         "mode": "markers",
         "name": "jon",
         "scene": "scene",
         "showlegend": true,
         "type": "scatter3d",
         "x": [
          -0.059150390326976776
         ],
         "y": [
          0.4044559895992279
         ],
         "z": [
          0.2192123830318451
         ]
        },
        {
         "hovertemplate": "color=some<br>0=%{x}<br>1=%{y}<br>2=%{z}<extra></extra>",
         "legendgroup": "some",
         "marker": {
          "color": "#FECB52",
          "symbol": "circle"
         },
         "mode": "markers",
         "name": "some",
         "scene": "scene",
         "showlegend": true,
         "type": "scatter3d",
         "x": [
          -0.11392834037542343
         ],
         "y": [
          0.5296845436096191
         ],
         "z": [
          -0.1794617772102356
         ]
        },
        {
         "hovertemplate": "color=father<br>0=%{x}<br>1=%{y}<br>2=%{z}<extra></extra>",
         "legendgroup": "father",
         "marker": {
          "color": "#636efa",
          "symbol": "circle"
         },
         "mode": "markers",
         "name": "father",
         "scene": "scene",
         "showlegend": true,
         "type": "scatter3d",
         "x": [
          -0.479079008102417
         ],
         "y": [
          0.6453890204429626
         ],
         "z": [
          0.16918224096298218
         ]
        },
        {
         "hovertemplate": "color=old<br>0=%{x}<br>1=%{y}<br>2=%{z}<extra></extra>",
         "legendgroup": "old",
         "marker": {
          "color": "#EF553B",
          "symbol": "circle"
         },
         "mode": "markers",
         "name": "old",
         "scene": "scene",
         "showlegend": true,
         "type": "scatter3d",
         "x": [
          -0.14645995199680328
         ],
         "y": [
          0.40328919887542725
         ],
         "z": [
          -0.006004631519317627
         ]
        },
        {
         "hovertemplate": "color=hand<br>0=%{x}<br>1=%{y}<br>2=%{z}<extra></extra>",
         "legendgroup": "hand",
         "marker": {
          "color": "#00cc96",
          "symbol": "circle"
         },
         "mode": "markers",
         "name": "hand",
         "scene": "scene",
         "showlegend": true,
         "type": "scatter3d",
         "x": [
          0.026832081377506256
         ],
         "y": [
          0.5154846906661987
         ],
         "z": [
          0.4849177896976471
         ]
        },
        {
         "hovertemplate": "color=even<br>0=%{x}<br>1=%{y}<br>2=%{z}<extra></extra>",
         "legendgroup": "even",
         "marker": {
          "color": "#ab63fa",
          "symbol": "circle"
         },
         "mode": "markers",
         "name": "even",
         "scene": "scene",
         "showlegend": true,
         "type": "scatter3d",
         "x": [
          -0.1737762987613678
         ],
         "y": [
          0.5602333545684814
         ],
         "z": [
          0.05255764722824097
         ]
        },
        {
         "hovertemplate": "color=too<br>0=%{x}<br>1=%{y}<br>2=%{z}<extra></extra>",
         "legendgroup": "too",
         "marker": {
          "color": "#FFA15A",
          "symbol": "circle"
         },
         "mode": "markers",
         "name": "too",
         "scene": "scene",
         "showlegend": true,
         "type": "scatter3d",
         "x": [
          -0.2204250693321228
         ],
         "y": [
          0.46973979473114014
         ],
         "z": [
          0.19756042957305908
         ]
        },
        {
         "hovertemplate": "color=tyrion<br>0=%{x}<br>1=%{y}<br>2=%{z}<extra></extra>",
         "legendgroup": "tyrion",
         "marker": {
          "color": "#19d3f3",
          "symbol": "circle"
         },
         "mode": "markers",
         "name": "tyrion",
         "scene": "scene",
         "showlegend": true,
         "type": "scatter3d",
         "x": [
          -0.16297248005867004
         ],
         "y": [
          0.2895740270614624
         ],
         "z": [
          0.3562997579574585
         ]
        },
        {
         "hovertemplate": "color=before<br>0=%{x}<br>1=%{y}<br>2=%{z}<extra></extra>",
         "legendgroup": "before",
         "marker": {
          "color": "#FF6692",
          "symbol": "circle"
         },
         "mode": "markers",
         "name": "before",
         "scene": "scene",
         "showlegend": true,
         "type": "scatter3d",
         "x": [
          -0.12055769562721252
         ],
         "y": [
          0.6576291918754578
         ],
         "z": [
          0.2338365912437439
         ]
        },
        {
         "hovertemplate": "color=never<br>0=%{x}<br>1=%{y}<br>2=%{z}<extra></extra>",
         "legendgroup": "never",
         "marker": {
          "color": "#B6E880",
          "symbol": "circle"
         },
         "mode": "markers",
         "name": "never",
         "scene": "scene",
         "showlegend": true,
         "type": "scatter3d",
         "x": [
          -0.4876050651073456
         ],
         "y": [
          0.5757177472114563
         ],
         "z": [
          0.19336286187171936
         ]
        },
        {
         "hovertemplate": "color=an<br>0=%{x}<br>1=%{y}<br>2=%{z}<extra></extra>",
         "legendgroup": "an",
         "marker": {
          "color": "#FF97FF",
          "symbol": "circle"
         },
         "mode": "markers",
         "name": "an",
         "scene": "scene",
         "showlegend": true,
         "type": "scatter3d",
         "x": [
          -0.03247717022895813
         ],
         "y": [
          0.35214874148368835
         ],
         "z": [
          0.08679249882698059
         ]
        },
        {
         "hovertemplate": "color=off<br>0=%{x}<br>1=%{y}<br>2=%{z}<extra></extra>",
         "legendgroup": "off",
         "marker": {
          "color": "#FECB52",
          "symbol": "circle"
         },
         "mode": "markers",
         "name": "off",
         "scene": "scene",
         "showlegend": true,
         "type": "scatter3d",
         "x": [
          0.2811865508556366
         ],
         "y": [
          0.43617764115333557
         ],
         "z": [
          0.41240715980529785
         ]
        },
        {
         "hovertemplate": "color=see<br>0=%{x}<br>1=%{y}<br>2=%{z}<extra></extra>",
         "legendgroup": "see",
         "marker": {
          "color": "#636efa",
          "symbol": "circle"
         },
         "mode": "markers",
         "name": "see",
         "scene": "scene",
         "showlegend": true,
         "type": "scatter3d",
         "x": [
          -0.1474478542804718
         ],
         "y": [
          0.6501978635787964
         ],
         "z": [
          0.35059064626693726
         ]
        },
        {
         "hovertemplate": "color=know<br>0=%{x}<br>1=%{y}<br>2=%{z}<extra></extra>",
         "legendgroup": "know",
         "marker": {
          "color": "#EF553B",
          "symbol": "circle"
         },
         "mode": "markers",
         "name": "know",
         "scene": "scene",
         "showlegend": true,
         "type": "scatter3d",
         "x": [
          -0.5553643703460693
         ],
         "y": [
          0.5721466541290283
         ],
         "z": [
          0.18859189748764038
         ]
        },
        {
         "hovertemplate": "color=into<br>0=%{x}<br>1=%{y}<br>2=%{z}<extra></extra>",
         "legendgroup": "into",
         "marker": {
          "color": "#00cc96",
          "symbol": "circle"
         },
         "mode": "markers",
         "name": "into",
         "scene": "scene",
         "showlegend": true,
         "type": "scatter3d",
         "x": [
          0.3900894224643707
         ],
         "y": [
          0.4248722195625305
         ],
         "z": [
          0.35770219564437866
         ]
        },
        {
         "hovertemplate": "color=made<br>0=%{x}<br>1=%{y}<br>2=%{z}<extra></extra>",
         "legendgroup": "made",
         "marker": {
          "color": "#ab63fa",
          "symbol": "circle"
         },
         "mode": "markers",
         "name": "made",
         "scene": "scene",
         "showlegend": true,
         "type": "scatter3d",
         "x": [
          -0.03597022593021393
         ],
         "y": [
          0.3706033527851105
         ],
         "z": [
          0.4071272015571594
         ]
        },
        {
         "hovertemplate": "color=now<br>0=%{x}<br>1=%{y}<br>2=%{z}<extra></extra>",
         "legendgroup": "now",
         "marker": {
          "color": "#FFA15A",
          "symbol": "circle"
         },
         "mode": "markers",
         "name": "now",
         "scene": "scene",
         "showlegend": true,
         "type": "scatter3d",
         "x": [
          -0.31695929169654846
         ],
         "y": [
          0.688223659992218
         ],
         "z": [
          0.14224912226200104
         ]
        },
        {
         "hovertemplate": "color=eyes<br>0=%{x}<br>1=%{y}<br>2=%{z}<extra></extra>",
         "legendgroup": "eyes",
         "marker": {
          "color": "#19d3f3",
          "symbol": "circle"
         },
         "mode": "markers",
         "name": "eyes",
         "scene": "scene",
         "showlegend": true,
         "type": "scatter3d",
         "x": [
          0.1574839949607849
         ],
         "y": [
          0.48996827006340027
         ],
         "z": [
          0.38128426671028137
         ]
        },
        {
         "hovertemplate": "color=black<br>0=%{x}<br>1=%{y}<br>2=%{z}<extra></extra>",
         "legendgroup": "black",
         "marker": {
          "color": "#FF6692",
          "symbol": "circle"
         },
         "mode": "markers",
         "name": "black",
         "scene": "scene",
         "showlegend": true,
         "type": "scatter3d",
         "x": [
          0.38815727829933167
         ],
         "y": [
          0.3767608404159546
         ],
         "z": [
          -0.03710144758224487
         ]
        },
        {
         "hovertemplate": "color=told<br>0=%{x}<br>1=%{y}<br>2=%{z}<extra></extra>",
         "legendgroup": "told",
         "marker": {
          "color": "#B6E880",
          "symbol": "circle"
         },
         "mode": "markers",
         "name": "told",
         "scene": "scene",
         "showlegend": true,
         "type": "scatter3d",
         "x": [
          -0.4597121477127075
         ],
         "y": [
          0.5622701048851013
         ],
         "z": [
          0.4631637930870056
         ]
        },
        {
         "hovertemplate": "color=lady<br>0=%{x}<br>1=%{y}<br>2=%{z}<extra></extra>",
         "legendgroup": "lady",
         "marker": {
          "color": "#FF97FF",
          "symbol": "circle"
         },
         "mode": "markers",
         "name": "lady",
         "scene": "scene",
         "showlegend": true,
         "type": "scatter3d",
         "x": [
          -0.5295966267585754
         ],
         "y": [
          0.3707611560821533
         ],
         "z": [
          0.16793283820152283
         ]
        },
        {
         "hovertemplate": "color=thought<br>0=%{x}<br>1=%{y}<br>2=%{z}<extra></extra>",
         "legendgroup": "thought",
         "marker": {
          "color": "#FECB52",
          "symbol": "circle"
         },
         "mode": "markers",
         "name": "thought",
         "scene": "scene",
         "showlegend": true,
         "type": "scatter3d",
         "x": [
          -0.3572967052459717
         ],
         "y": [
          0.5977980494499207
         ],
         "z": [
          0.4883400797843933
         ]
        },
        {
         "hovertemplate": "color=time<br>0=%{x}<br>1=%{y}<br>2=%{z}<extra></extra>",
         "legendgroup": "time",
         "marker": {
          "color": "#636efa",
          "symbol": "circle"
         },
         "mode": "markers",
         "name": "time",
         "scene": "scene",
         "showlegend": true,
         "type": "scatter3d",
         "x": [
          -0.06894166022539139
         ],
         "y": [
          0.7101230621337891
         ],
         "z": [
          0.292298287153244
         ]
        },
        {
         "hovertemplate": "color=then<br>0=%{x}<br>1=%{y}<br>2=%{z}<extra></extra>",
         "legendgroup": "then",
         "marker": {
          "color": "#EF553B",
          "symbol": "circle"
         },
         "mode": "markers",
         "name": "then",
         "scene": "scene",
         "showlegend": true,
         "type": "scatter3d",
         "x": [
          0.10920991748571396
         ],
         "y": [
          0.5561582446098328
         ],
         "z": [
          0.4520251452922821
         ]
        },
        {
         "hovertemplate": "color=how<br>0=%{x}<br>1=%{y}<br>2=%{z}<extra></extra>",
         "legendgroup": "how",
         "marker": {
          "color": "#00cc96",
          "symbol": "circle"
         },
         "mode": "markers",
         "name": "how",
         "scene": "scene",
         "showlegend": true,
         "type": "scatter3d",
         "x": [
          -0.3784335255622864
         ],
         "y": [
          0.5328283309936523
         ],
         "z": [
          0.19378837943077087
         ]
        },
        {
         "hovertemplate": "color=long<br>0=%{x}<br>1=%{y}<br>2=%{z}<extra></extra>",
         "legendgroup": "long",
         "marker": {
          "color": "#ab63fa",
          "symbol": "circle"
         },
         "mode": "markers",
         "name": "long",
         "scene": "scene",
         "showlegend": true,
         "type": "scatter3d",
         "x": [
          0.15858867764472961
         ],
         "y": [
          0.525297999382019
         ],
         "z": [
          0.07337816059589386
         ]
        },
        {
         "hovertemplate": "color=has<br>0=%{x}<br>1=%{y}<br>2=%{z}<extra></extra>",
         "legendgroup": "has",
         "marker": {
          "color": "#FFA15A",
          "symbol": "circle"
         },
         "mode": "markers",
         "name": "has",
         "scene": "scene",
         "showlegend": true,
         "type": "scatter3d",
         "x": [
          -0.532534122467041
         ],
         "y": [
          0.4888222813606262
         ],
         "z": [
          0.06244249641895294
         ]
        },
        {
         "hovertemplate": "color=can<br>0=%{x}<br>1=%{y}<br>2=%{z}<extra></extra>",
         "legendgroup": "can",
         "marker": {
          "color": "#19d3f3",
          "symbol": "circle"
         },
         "mode": "markers",
         "name": "can",
         "scene": "scene",
         "showlegend": true,
         "type": "scatter3d",
         "x": [
          -0.38150233030319214
         ],
         "y": [
          0.496440589427948
         ],
         "z": [
          0.1728718876838684
         ]
        },
        {
         "hovertemplate": "color=might<br>0=%{x}<br>1=%{y}<br>2=%{z}<extra></extra>",
         "legendgroup": "might",
         "marker": {
          "color": "#FF6692",
          "symbol": "circle"
         },
         "mode": "markers",
         "name": "might",
         "scene": "scene",
         "showlegend": true,
         "type": "scatter3d",
         "x": [
          -0.4204353392124176
         ],
         "y": [
          0.4652324318885803
         ],
         "z": [
          0.19215738773345947
         ]
        },
        {
         "hovertemplate": "color=us<br>0=%{x}<br>1=%{y}<br>2=%{z}<extra></extra>",
         "legendgroup": "us",
         "marker": {
          "color": "#B6E880",
          "symbol": "circle"
         },
         "mode": "markers",
         "name": "us",
         "scene": "scene",
         "showlegend": true,
         "type": "scatter3d",
         "x": [
          -0.43707549571990967
         ],
         "y": [
          0.7256723642349243
         ],
         "z": [
          -0.11715275049209595
         ]
        },
        {
         "hovertemplate": "color=come<br>0=%{x}<br>1=%{y}<br>2=%{z}<extra></extra>",
         "legendgroup": "come",
         "marker": {
          "color": "#FF97FF",
          "symbol": "circle"
         },
         "mode": "markers",
         "name": "come",
         "scene": "scene",
         "showlegend": true,
         "type": "scatter3d",
         "x": [
          -0.32573091983795166
         ],
         "y": [
          0.8075665235519409
         ],
         "z": [
          0.18249261379241943
         ]
        },
        {
         "hovertemplate": "color=where<br>0=%{x}<br>1=%{y}<br>2=%{z}<extra></extra>",
         "legendgroup": "where",
         "marker": {
          "color": "#FECB52",
          "symbol": "circle"
         },
         "mode": "markers",
         "name": "where",
         "scene": "scene",
         "showlegend": true,
         "type": "scatter3d",
         "x": [
          0.1627078354358673
         ],
         "y": [
          0.6146530508995056
         ],
         "z": [
          0.0587938129901886
         ]
        }
       ],
       "layout": {
        "legend": {
         "title": {
          "text": "color"
         },
         "tracegroupgap": 0
        },
        "margin": {
         "t": 60
        },
        "scene": {
         "domain": {
          "x": [
           0,
           1
          ],
          "y": [
           0,
           1
          ]
         },
         "xaxis": {
          "title": {
           "text": "0"
          }
         },
         "yaxis": {
          "title": {
           "text": "1"
          }
         },
         "zaxis": {
          "title": {
           "text": "2"
          }
         }
        },
        "template": {
         "data": {
          "bar": [
           {
            "error_x": {
             "color": "#2a3f5f"
            },
            "error_y": {
             "color": "#2a3f5f"
            },
            "marker": {
             "line": {
              "color": "#E5ECF6",
              "width": 0.5
             },
             "pattern": {
              "fillmode": "overlay",
              "size": 10,
              "solidity": 0.2
             }
            },
            "type": "bar"
           }
          ],
          "barpolar": [
           {
            "marker": {
             "line": {
              "color": "#E5ECF6",
              "width": 0.5
             },
             "pattern": {
              "fillmode": "overlay",
              "size": 10,
              "solidity": 0.2
             }
            },
            "type": "barpolar"
           }
          ],
          "carpet": [
           {
            "aaxis": {
             "endlinecolor": "#2a3f5f",
             "gridcolor": "white",
             "linecolor": "white",
             "minorgridcolor": "white",
             "startlinecolor": "#2a3f5f"
            },
            "baxis": {
             "endlinecolor": "#2a3f5f",
             "gridcolor": "white",
             "linecolor": "white",
             "minorgridcolor": "white",
             "startlinecolor": "#2a3f5f"
            },
            "type": "carpet"
           }
          ],
          "choropleth": [
           {
            "colorbar": {
             "outlinewidth": 0,
             "ticks": ""
            },
            "type": "choropleth"
           }
          ],
          "contour": [
           {
            "colorbar": {
             "outlinewidth": 0,
             "ticks": ""
            },
            "colorscale": [
             [
              0,
              "#0d0887"
             ],
             [
              0.1111111111111111,
              "#46039f"
             ],
             [
              0.2222222222222222,
              "#7201a8"
             ],
             [
              0.3333333333333333,
              "#9c179e"
             ],
             [
              0.4444444444444444,
              "#bd3786"
             ],
             [
              0.5555555555555556,
              "#d8576b"
             ],
             [
              0.6666666666666666,
              "#ed7953"
             ],
             [
              0.7777777777777778,
              "#fb9f3a"
             ],
             [
              0.8888888888888888,
              "#fdca26"
             ],
             [
              1,
              "#f0f921"
             ]
            ],
            "type": "contour"
           }
          ],
          "contourcarpet": [
           {
            "colorbar": {
             "outlinewidth": 0,
             "ticks": ""
            },
            "type": "contourcarpet"
           }
          ],
          "heatmap": [
           {
            "colorbar": {
             "outlinewidth": 0,
             "ticks": ""
            },
            "colorscale": [
             [
              0,
              "#0d0887"
             ],
             [
              0.1111111111111111,
              "#46039f"
             ],
             [
              0.2222222222222222,
              "#7201a8"
             ],
             [
              0.3333333333333333,
              "#9c179e"
             ],
             [
              0.4444444444444444,
              "#bd3786"
             ],
             [
              0.5555555555555556,
              "#d8576b"
             ],
             [
              0.6666666666666666,
              "#ed7953"
             ],
             [
              0.7777777777777778,
              "#fb9f3a"
             ],
             [
              0.8888888888888888,
              "#fdca26"
             ],
             [
              1,
              "#f0f921"
             ]
            ],
            "type": "heatmap"
           }
          ],
          "heatmapgl": [
           {
            "colorbar": {
             "outlinewidth": 0,
             "ticks": ""
            },
            "colorscale": [
             [
              0,
              "#0d0887"
             ],
             [
              0.1111111111111111,
              "#46039f"
             ],
             [
              0.2222222222222222,
              "#7201a8"
             ],
             [
              0.3333333333333333,
              "#9c179e"
             ],
             [
              0.4444444444444444,
              "#bd3786"
             ],
             [
              0.5555555555555556,
              "#d8576b"
             ],
             [
              0.6666666666666666,
              "#ed7953"
             ],
             [
              0.7777777777777778,
              "#fb9f3a"
             ],
             [
              0.8888888888888888,
              "#fdca26"
             ],
             [
              1,
              "#f0f921"
             ]
            ],
            "type": "heatmapgl"
           }
          ],
          "histogram": [
           {
            "marker": {
             "pattern": {
              "fillmode": "overlay",
              "size": 10,
              "solidity": 0.2
             }
            },
            "type": "histogram"
           }
          ],
          "histogram2d": [
           {
            "colorbar": {
             "outlinewidth": 0,
             "ticks": ""
            },
            "colorscale": [
             [
              0,
              "#0d0887"
             ],
             [
              0.1111111111111111,
              "#46039f"
             ],
             [
              0.2222222222222222,
              "#7201a8"
             ],
             [
              0.3333333333333333,
              "#9c179e"
             ],
             [
              0.4444444444444444,
              "#bd3786"
             ],
             [
              0.5555555555555556,
              "#d8576b"
             ],
             [
              0.6666666666666666,
              "#ed7953"
             ],
             [
              0.7777777777777778,
              "#fb9f3a"
             ],
             [
              0.8888888888888888,
              "#fdca26"
             ],
             [
              1,
              "#f0f921"
             ]
            ],
            "type": "histogram2d"
           }
          ],
          "histogram2dcontour": [
           {
            "colorbar": {
             "outlinewidth": 0,
             "ticks": ""
            },
            "colorscale": [
             [
              0,
              "#0d0887"
             ],
             [
              0.1111111111111111,
              "#46039f"
             ],
             [
              0.2222222222222222,
              "#7201a8"
             ],
             [
              0.3333333333333333,
              "#9c179e"
             ],
             [
              0.4444444444444444,
              "#bd3786"
             ],
             [
              0.5555555555555556,
              "#d8576b"
             ],
             [
              0.6666666666666666,
              "#ed7953"
             ],
             [
              0.7777777777777778,
              "#fb9f3a"
             ],
             [
              0.8888888888888888,
              "#fdca26"
             ],
             [
              1,
              "#f0f921"
             ]
            ],
            "type": "histogram2dcontour"
           }
          ],
          "mesh3d": [
           {
            "colorbar": {
             "outlinewidth": 0,
             "ticks": ""
            },
            "type": "mesh3d"
           }
          ],
          "parcoords": [
           {
            "line": {
             "colorbar": {
              "outlinewidth": 0,
              "ticks": ""
             }
            },
            "type": "parcoords"
           }
          ],
          "pie": [
           {
            "automargin": true,
            "type": "pie"
           }
          ],
          "scatter": [
           {
            "fillpattern": {
             "fillmode": "overlay",
             "size": 10,
             "solidity": 0.2
            },
            "type": "scatter"
           }
          ],
          "scatter3d": [
           {
            "line": {
             "colorbar": {
              "outlinewidth": 0,
              "ticks": ""
             }
            },
            "marker": {
             "colorbar": {
              "outlinewidth": 0,
              "ticks": ""
             }
            },
            "type": "scatter3d"
           }
          ],
          "scattercarpet": [
           {
            "marker": {
             "colorbar": {
              "outlinewidth": 0,
              "ticks": ""
             }
            },
            "type": "scattercarpet"
           }
          ],
          "scattergeo": [
           {
            "marker": {
             "colorbar": {
              "outlinewidth": 0,
              "ticks": ""
             }
            },
            "type": "scattergeo"
           }
          ],
          "scattergl": [
           {
            "marker": {
             "colorbar": {
              "outlinewidth": 0,
              "ticks": ""
             }
            },
            "type": "scattergl"
           }
          ],
          "scattermapbox": [
           {
            "marker": {
             "colorbar": {
              "outlinewidth": 0,
              "ticks": ""
             }
            },
            "type": "scattermapbox"
           }
          ],
          "scatterpolar": [
           {
            "marker": {
             "colorbar": {
              "outlinewidth": 0,
              "ticks": ""
             }
            },
            "type": "scatterpolar"
           }
          ],
          "scatterpolargl": [
           {
            "marker": {
             "colorbar": {
              "outlinewidth": 0,
              "ticks": ""
             }
            },
            "type": "scatterpolargl"
           }
          ],
          "scatterternary": [
           {
            "marker": {
             "colorbar": {
              "outlinewidth": 0,
              "ticks": ""
             }
            },
            "type": "scatterternary"
           }
          ],
          "surface": [
           {
            "colorbar": {
             "outlinewidth": 0,
             "ticks": ""
            },
            "colorscale": [
             [
              0,
              "#0d0887"
             ],
             [
              0.1111111111111111,
              "#46039f"
             ],
             [
              0.2222222222222222,
              "#7201a8"
             ],
             [
              0.3333333333333333,
              "#9c179e"
             ],
             [
              0.4444444444444444,
              "#bd3786"
             ],
             [
              0.5555555555555556,
              "#d8576b"
             ],
             [
              0.6666666666666666,
              "#ed7953"
             ],
             [
              0.7777777777777778,
              "#fb9f3a"
             ],
             [
              0.8888888888888888,
              "#fdca26"
             ],
             [
              1,
              "#f0f921"
             ]
            ],
            "type": "surface"
           }
          ],
          "table": [
           {
            "cells": {
             "fill": {
              "color": "#EBF0F8"
             },
             "line": {
              "color": "white"
             }
            },
            "header": {
             "fill": {
              "color": "#C8D4E3"
             },
             "line": {
              "color": "white"
             }
            },
            "type": "table"
           }
          ]
         },
         "layout": {
          "annotationdefaults": {
           "arrowcolor": "#2a3f5f",
           "arrowhead": 0,
           "arrowwidth": 1
          },
          "autotypenumbers": "strict",
          "coloraxis": {
           "colorbar": {
            "outlinewidth": 0,
            "ticks": ""
           }
          },
          "colorscale": {
           "diverging": [
            [
             0,
             "#8e0152"
            ],
            [
             0.1,
             "#c51b7d"
            ],
            [
             0.2,
             "#de77ae"
            ],
            [
             0.3,
             "#f1b6da"
            ],
            [
             0.4,
             "#fde0ef"
            ],
            [
             0.5,
             "#f7f7f7"
            ],
            [
             0.6,
             "#e6f5d0"
            ],
            [
             0.7,
             "#b8e186"
            ],
            [
             0.8,
             "#7fbc41"
            ],
            [
             0.9,
             "#4d9221"
            ],
            [
             1,
             "#276419"
            ]
           ],
           "sequential": [
            [
             0,
             "#0d0887"
            ],
            [
             0.1111111111111111,
             "#46039f"
            ],
            [
             0.2222222222222222,
             "#7201a8"
            ],
            [
             0.3333333333333333,
             "#9c179e"
            ],
            [
             0.4444444444444444,
             "#bd3786"
            ],
            [
             0.5555555555555556,
             "#d8576b"
            ],
            [
             0.6666666666666666,
             "#ed7953"
            ],
            [
             0.7777777777777778,
             "#fb9f3a"
            ],
            [
             0.8888888888888888,
             "#fdca26"
            ],
            [
             1,
             "#f0f921"
            ]
           ],
           "sequentialminus": [
            [
             0,
             "#0d0887"
            ],
            [
             0.1111111111111111,
             "#46039f"
            ],
            [
             0.2222222222222222,
             "#7201a8"
            ],
            [
             0.3333333333333333,
             "#9c179e"
            ],
            [
             0.4444444444444444,
             "#bd3786"
            ],
            [
             0.5555555555555556,
             "#d8576b"
            ],
            [
             0.6666666666666666,
             "#ed7953"
            ],
            [
             0.7777777777777778,
             "#fb9f3a"
            ],
            [
             0.8888888888888888,
             "#fdca26"
            ],
            [
             1,
             "#f0f921"
            ]
           ]
          },
          "colorway": [
           "#636efa",
           "#EF553B",
           "#00cc96",
           "#ab63fa",
           "#FFA15A",
           "#19d3f3",
           "#FF6692",
           "#B6E880",
           "#FF97FF",
           "#FECB52"
          ],
          "font": {
           "color": "#2a3f5f"
          },
          "geo": {
           "bgcolor": "white",
           "lakecolor": "white",
           "landcolor": "#E5ECF6",
           "showlakes": true,
           "showland": true,
           "subunitcolor": "white"
          },
          "hoverlabel": {
           "align": "left"
          },
          "hovermode": "closest",
          "mapbox": {
           "style": "light"
          },
          "paper_bgcolor": "white",
          "plot_bgcolor": "#E5ECF6",
          "polar": {
           "angularaxis": {
            "gridcolor": "white",
            "linecolor": "white",
            "ticks": ""
           },
           "bgcolor": "#E5ECF6",
           "radialaxis": {
            "gridcolor": "white",
            "linecolor": "white",
            "ticks": ""
           }
          },
          "scene": {
           "xaxis": {
            "backgroundcolor": "#E5ECF6",
            "gridcolor": "white",
            "gridwidth": 2,
            "linecolor": "white",
            "showbackground": true,
            "ticks": "",
            "zerolinecolor": "white"
           },
           "yaxis": {
            "backgroundcolor": "#E5ECF6",
            "gridcolor": "white",
            "gridwidth": 2,
            "linecolor": "white",
            "showbackground": true,
            "ticks": "",
            "zerolinecolor": "white"
           },
           "zaxis": {
            "backgroundcolor": "#E5ECF6",
            "gridcolor": "white",
            "gridwidth": 2,
            "linecolor": "white",
            "showbackground": true,
            "ticks": "",
            "zerolinecolor": "white"
           }
          },
          "shapedefaults": {
           "line": {
            "color": "#2a3f5f"
           }
          },
          "ternary": {
           "aaxis": {
            "gridcolor": "white",
            "linecolor": "white",
            "ticks": ""
           },
           "baxis": {
            "gridcolor": "white",
            "linecolor": "white",
            "ticks": ""
           },
           "bgcolor": "#E5ECF6",
           "caxis": {
            "gridcolor": "white",
            "linecolor": "white",
            "ticks": ""
           }
          },
          "title": {
           "x": 0.05
          },
          "xaxis": {
           "automargin": true,
           "gridcolor": "white",
           "linecolor": "white",
           "ticks": "",
           "title": {
            "standoff": 15
           },
           "zerolinecolor": "white",
           "zerolinewidth": 2
          },
          "yaxis": {
           "automargin": true,
           "gridcolor": "white",
           "linecolor": "white",
           "ticks": "",
           "title": {
            "standoff": 15
           },
           "zerolinecolor": "white",
           "zerolinewidth": 2
          }
         }
        }
       }
      }
     },
     "metadata": {},
     "output_type": "display_data"
    }
   ],
   "source": [
    "fig = px.scatter_3d(X[:100], x=0, y=1, z=2, color=y[:100])\n",
    "fig.show()"
   ]
  },
  {
   "cell_type": "markdown",
   "id": "43075db1",
   "metadata": {},
   "source": [
    "This would have worked even better if we would have removed stopwords but still we can see the related words are together."
   ]
  },
  {
   "cell_type": "markdown",
   "id": "4bf43d7a",
   "metadata": {},
   "source": []
  }
 ],
 "metadata": {
  "kernelspec": {
   "display_name": "mobcoder_env",
   "language": "python",
   "name": "python3"
  },
  "language_info": {
   "codemirror_mode": {
    "name": "ipython",
    "version": 3
   },
   "file_extension": ".py",
   "mimetype": "text/x-python",
   "name": "python",
   "nbconvert_exporter": "python",
   "pygments_lexer": "ipython3",
   "version": "3.12.7"
  }
 },
 "nbformat": 4,
 "nbformat_minor": 5
}
